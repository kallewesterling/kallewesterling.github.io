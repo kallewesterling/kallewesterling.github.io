{
 "cells": [
  {
   "cell_type": "code",
   "execution_count": 21,
   "metadata": {},
   "outputs": [],
   "source": [
    "import yaml\n",
    "import slugify"
   ]
  },
  {
   "cell_type": "code",
   "execution_count": 11,
   "metadata": {},
   "outputs": [],
   "source": [
    "with open('../../personal-admin-website/blog/fixtures/initial_data.yml') as f:\n",
    "    posts = yaml.load(f, Loader=yaml.FullLoader)"
   ]
  },
  {
   "cell_type": "code",
   "execution_count": 32,
   "metadata": {},
   "outputs": [],
   "source": [
    "for post in posts:\n",
    "    if post['fields']['status'] == 'publish':\n",
    "        title = post['fields']['title']\n",
    "        title = title.replace('\"','\\\\\"')\n",
    "        text = post['fields']['text']\n",
    "        created = post['fields']['created']\n",
    "        \n",
    "        lines = []\n",
    "        lines.append('---')\n",
    "        lines.append('layout: post')\n",
    "        lines.append(f'title: \"{title}\"')\n",
    "        lines.append(f'date: {created} 12:00:00')\n",
    "        lines.append(f'description: ')\n",
    "        lines.append('---')\n",
    "        lines.append('')\n",
    "        lines.append(text)\n",
    "        output = '\\n'.join(lines)\n",
    "        filename = f'../_posts/{created}-{slugify.slugify(title)}.md'\n",
    "        with open(filename, 'w+') as f:\n",
    "            f.write(output)"
   ]
  },
  {
   "cell_type": "code",
   "execution_count": null,
   "metadata": {},
   "outputs": [],
   "source": []
  }
 ],
 "metadata": {
  "hide_input": false,
  "kernelspec": {
   "display_name": "Python 3",
   "language": "python",
   "name": "python3"
  },
  "language_info": {
   "codemirror_mode": {
    "name": "ipython",
    "version": 3
   },
   "file_extension": ".py",
   "mimetype": "text/x-python",
   "name": "python",
   "nbconvert_exporter": "python",
   "pygments_lexer": "ipython3",
   "version": "3.8.5"
  },
  "toc": {
   "base_numbering": 1,
   "nav_menu": {},
   "number_sections": true,
   "sideBar": true,
   "skip_h1_title": false,
   "title_cell": "Table of Contents",
   "title_sidebar": "Contents",
   "toc_cell": false,
   "toc_position": {},
   "toc_section_display": true,
   "toc_window_display": false
  }
 },
 "nbformat": 4,
 "nbformat_minor": 4
}
